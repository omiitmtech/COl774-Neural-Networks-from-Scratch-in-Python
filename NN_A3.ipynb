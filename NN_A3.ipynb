{
 "cells": [
  {
   "cell_type": "code",
   "execution_count": 0,
   "metadata": {
    "colab": {},
    "colab_type": "code",
    "id": "1Qf4AIRbDvME"
   },
   "outputs": [],
   "source": [
    "root_path = 'Part2_data/'"
   ]
  },
  {
   "cell_type": "code",
   "execution_count": 0,
   "metadata": {
    "colab": {},
    "colab_type": "code",
    "id": "gYUu9WPIERH4"
   },
   "outputs": [],
   "source": [
    "import pandas as pd\n",
    "import numpy as np\n",
    "from sklearn.neural_network import MLPClassifier\n",
    "import sklearn.metrics as metrics\n",
    "import matplotlib.pyplot as plt\n",
    "from tqdm import tqdm\n",
    "import math\n",
    "import time                    "
   ]
  },
  {
   "cell_type": "code",
   "execution_count": 0,
   "metadata": {
    "colab": {},
    "colab_type": "code",
    "id": "uuYy0krtS8gt"
   },
   "outputs": [],
   "source": [
    "# path to the data files\n",
    "training_file_path = root_path+'train.csv'\n",
    "test_file_path = root_path+'test.csv'"
   ]
  },
  {
   "cell_type": "code",
   "execution_count": 0,
   "metadata": {
    "colab": {},
    "colab_type": "code",
    "id": "1GfVxQsvTDdP"
   },
   "outputs": [],
   "source": [
    "#function to read the data and convert into numpy arrays\n",
    "def prepare_data(file_path):\n",
    "    train_data = np.array(pd.read_csv(file_path, header=None))\n",
    "    x_train = train_data[:,0:784]\n",
    "    y_train = train_data[:,784:785]\n",
    "    y_train = y_train.reshape(len(y_train),)\n",
    "    \n",
    "    return x_train,y_train"
   ]
  },
  {
   "cell_type": "code",
   "execution_count": 0,
   "metadata": {
    "colab": {},
    "colab_type": "code",
    "id": "mhQGwrdnTGXm"
   },
   "outputs": [],
   "source": [
    "#function to convert labels into one hot encoding form\n",
    "def one_hot_encoder(v_labels):\n",
    "    labels = np.zeros((len(v_labels),len(np.unique(v_labels))))\n",
    "    rows = np.arange(v_labels.size)\n",
    "    labels[rows,v_labels] = 1\n",
    "    return labels"
   ]
  },
  {
   "cell_type": "code",
   "execution_count": 8,
   "metadata": {
    "colab": {
     "base_uri": "https://localhost:8080/",
     "height": 51
    },
    "colab_type": "code",
    "id": "7I87sVSzTJNd",
    "outputId": "a616a178-ef8a-4f60-fa8d-1b4800dd95e7"
   },
   "outputs": [
    {
     "name": "stdout",
     "output_type": "stream",
     "text": [
      "Shape of X : (13000, 784)\n",
      "Shape of Y : (13000, 26)\n"
     ]
    }
   ],
   "source": [
    "#read the data from files\n",
    "x_train,y_train = prepare_data(training_file_path)\n",
    "X = x_train\n",
    "X = (X*1.0)/255\n",
    "Y = one_hot_encoder(y_train)\n",
    "# Y = y_train\n",
    "print('Shape of X :',X.shape)\n",
    "print('Shape of Y :',Y.shape)\n",
    "\n",
    "test_features, test_y = prepare_data(test_file_path)\n",
    "test_features = (test_features*1.0)/255\n",
    "test_labels = one_hot_encoder(test_y)\n"
   ]
  },
  {
   "cell_type": "code",
   "execution_count": 0,
   "metadata": {
    "colab": {},
    "colab_type": "code",
    "id": "gxyg1RCATXxC"
   },
   "outputs": [],
   "source": [
    "def mean_sq_error(labels, predictions): \n",
    "    diff = np.subtract(labels, predictions)\n",
    "    sq_diff = np.square(diff)\n",
    "    error_vector = np.sum(sq_diff,axis=1)/2\n",
    "    vector_sum = np.sum(error_vector)\n",
    "    error = (vector_sum*1.0)/vector_sum.size\n",
    "    return error"
   ]
  },
  {
   "cell_type": "code",
   "execution_count": 0,
   "metadata": {
    "colab": {},
    "colab_type": "code",
    "id": "6cHkh8FnWT5J"
   },
   "outputs": [],
   "source": [
    "def activation_func(z,activation_fn,deriv=False):\n",
    "    if activation_fn == 'sigmoid':\n",
    "        if deriv == True:\n",
    "            return np.multiply(z,1-z)\n",
    "        else:\n",
    "            return 1/(1 + np.exp(-z))\n",
    "    if activation_fn == 'relu':\n",
    "        if deriv == True:\n",
    "            return (z>0)*1\n",
    "        else:\n",
    "            input_rows = z\n",
    "            for r in input_rows:\n",
    "                r[r < 0] = 0\n",
    "            return input_rows       "
   ]
  },
  {
   "cell_type": "code",
   "execution_count": 0,
   "metadata": {
    "colab": {},
    "colab_type": "code",
    "id": "uM6Afh0LbvWK"
   },
   "outputs": [],
   "source": [
    "def initialize_layers(nodes_hidden_layer,no_of_features,no_of_classes,batch_size,initial_weight):\n",
    "    \n",
    "    layers = []\n",
    "    no_layers = len(nodes_hidden_layer)\n",
    "    first_layer = 0\n",
    "    \n",
    "    #first hidden layer as number of neurons = no_of_features + 1\n",
    "    for i in range(no_layers+1):\n",
    "        layer = {}\n",
    "        if first_layer == 0:\n",
    "            no_weights = no_of_features+1\n",
    "            first_layer +=1\n",
    "        else :\n",
    "            no_weights = nodes_hidden_layer[i-1]+1\n",
    "        \n",
    "        if i == no_layers :\n",
    "            no_neurons = no_of_classes\n",
    "        else :\n",
    "            no_neurons = nodes_hidden_layer[i]\n",
    "        \n",
    "        layer[\"node_count\"] = no_neurons\n",
    "        layer[\"weights\"] = np.random.uniform(-initial_weight, initial_weight, size=(no_neurons, no_weights))\n",
    "        layer[\"net_input\"] = np.zeros((batch_size,no_weights))\n",
    "        print('layer no :',i,'No of neurons :',no_neurons,'No of weights :',no_weights,layer[\"weights\"].shape)\n",
    "        layers.append(layer)\n",
    "    \n",
    "    return layers"
   ]
  },
  {
   "cell_type": "code",
   "execution_count": 0,
   "metadata": {
    "colab": {},
    "colab_type": "code",
    "id": "KhDMlSlybwt2"
   },
   "outputs": [],
   "source": [
    "def forward_pass(input_data, activation_fn, layers, batch_size):\n",
    "    \n",
    "    total_layers = len(layers) #no. of layers in the network\n",
    "    \n",
    "    #set x0 =1 for bias, concate 1's to input data \n",
    "    bias_ones = np.ones(input_data.shape[0])\n",
    "    input_data = np.c_[bias_ones,input_data]\n",
    "    layers[0][\"net_input\"] = input_data #whole batch is copied to net_input\n",
    "    tot_lay = total_layers-1\n",
    "    \n",
    "    for i in range(tot_lay): #iterate through all the layers \n",
    "        ith_layer_weight = layers[i][\"weights\"]\n",
    "        ith_layer_net_input = layers[i][\"net_input\"].T\n",
    "        \n",
    "        next_net_input = np.dot(ith_layer_weight,ith_layer_net_input)\n",
    "        #it calculates W*X.T + b\n",
    "        \n",
    "        next_net_input = activation_func(next_net_input,activation_fn)\n",
    "        \n",
    "        #set x0=1 for next_net_input\n",
    "        layers[i+1][\"net_input\"] = next_net_input.T #it will be input for next layer\n",
    "        #1's added to the next layer input\n",
    "        ones_shape = layers[i+1][\"net_input\"]\n",
    "        i_plus_layer_ones = np.ones(ones_shape.shape[0])\n",
    "        \n",
    "        layers[i+1][\"net_input\"] = np.c_[i_plus_layer_ones,ones_shape]"
   ]
  },
  {
   "cell_type": "code",
   "execution_count": 0,
   "metadata": {
    "colab": {},
    "colab_type": "code",
    "id": "Kft2nvLMbz9c"
   },
   "outputs": [],
   "source": [
    "def back_propagation(labels, predictions, last_layer, layers, learning_rate, activation_fn, net):\n",
    "    \n",
    "    batch_size = predictions.shape[0]\n",
    "    \n",
    "    derv = predictions*(1-predictions) #multiply element by element\n",
    "    difference = labels - predictions\n",
    "    delta_L = np.multiply(difference, derv)\n",
    "    delta_trans = delta_L.T\n",
    "    last_lay_inp = layers[last_layer][\"net_input\"]\n",
    "    delta_w = np.dot(delta_trans,last_lay_inp )\n",
    "    #net_input is the output of the previous layer\n",
    "    last_lay_weight = layers[last_layer][\"weights\"]\n",
    "    \n",
    "    learn_rate_delta_w = learning_rate * delta_w\n",
    "    divr = learn_rate_delta_w/batch_size\n",
    "    \n",
    "    \n",
    "    \n",
    "    #back propagation in hidden layers\n",
    "    n = last_layer-1\n",
    "    \n",
    "    updated_weights = last_lay_weight + divr\n",
    "    \n",
    "    for i in range(n , -1, -1):\n",
    "        \n",
    "        y = layers[i+1][\"net_input\"]\n",
    "        \n",
    "        derv = activation_func(y,activation_fn,deriv=True)\n",
    "        \n",
    "        layers[i+1][\"weights\"] = updated_weights\n",
    "        \n",
    "        i_plus_lay_weights = layers[i+1][\"weights\"][:,1:]\n",
    "        \n",
    "        temp = np.dot(delta_L , i_plus_lay_weights)\n",
    "        \n",
    "        \n",
    "        delta_L = np.multiply(temp, derv[:,1:])\n",
    "        i_lay_weights = layers[i][\"net_input\"]\n",
    "        delta_w = np.dot(delta_L.T , i_lay_weights)\n",
    "        \n",
    "        i_lay_weight = layers[i][\"weights\"]\n",
    "        learn_rate_delta_w = learning_rate * delta_w\n",
    "            \n",
    "        updated_weights = i_lay_weight + (learn_rate_delta_w/batch_size)\n",
    "    layers[0][\"weights\"] = updated_weights"
   ]
  },
  {
   "cell_type": "code",
   "execution_count": 0,
   "metadata": {
    "colab": {},
    "colab_type": "code",
    "id": "aTfGev5Ab2gR"
   },
   "outputs": [],
   "source": [
    "def train_per_batch(layers, features, labels, activation_fn, learning_rate, nt):\n",
    "    #features is a subset of x, for example 100x784 matrix\n",
    "    #labels is subset of y, for example 100x1 matrix of hard encoded \n",
    "    batch_size = 100\n",
    "    forward_pass(features, activation_fn, layers, batch_size) #forward propagation\n",
    "    \n",
    "    #get the prediction of output layer\n",
    "    last_layer = len(layers) - 1\n",
    "    last_layer_input = layers[last_layer][\"net_input\"]\n",
    "    last_layer_weight = layers[last_layer][\"weights\"].T\n",
    "    z = np.dot(last_layer_input,last_layer_weight)\n",
    "#     predictions = sigmoid(z)\n",
    "    predictions = activation_func(z,'sigmoid')\n",
    "    #output of lastlayer\n",
    "    #compute mean squared error\n",
    "    error = mean_sq_error(labels, predictions)\n",
    "    #back propagate the error to update weights\n",
    "    back_propagation(labels, predictions, last_layer, layers, learning_rate, activation_fn,batch_size )\n",
    "    \n",
    "    return error"
   ]
  },
  {
   "cell_type": "code",
   "execution_count": 0,
   "metadata": {
    "colab": {},
    "colab_type": "code",
    "id": "wZitHEd9b4Ts"
   },
   "outputs": [],
   "source": [
    "def get_accuracy(layers, features, labels, activation_fn):\n",
    "    \n",
    "    batch_size = 100\n",
    "    forward_pass(features, activation_fn, layers,batch_size)\n",
    "    \n",
    "    #get the prediction\n",
    "    last_layer = len(layers) - 1\n",
    "    \n",
    "    last_layer_inp = layers[last_layer][\"net_input\"]\n",
    "    last_layer_weight = layers[last_layer][\"weights\"].T\n",
    "    mult = np.dot(last_layer_inp, last_layer_weight)\n",
    "    predictions = activation_func(mult,'sigmoid')\n",
    "    \n",
    "    total_count = len(predictions)\n",
    "    \n",
    "    for i in range(0,total_count):  \n",
    "        \n",
    "        maximum_val = np.max(predictions[i])\n",
    "        true_val = predictions[i] >= maximum_val\n",
    "        predictions[i] = true_val.astype(int)\n",
    "\n",
    "    \n",
    "    print('No of total values Match :',total_count)\n",
    "    crct_result = np.all(labels == predictions, axis=1)\n",
    "    print('number of correct match :',np.sum(crct_result))\n",
    "    correct_count = np.sum(crct_result)\n",
    "    \n",
    "    accuracy = (correct_count*100.0)/total_count\n",
    "    print(\"Accuracy: \", accuracy)\n",
    "    return round(accuracy,2)"
   ]
  },
  {
   "cell_type": "code",
   "execution_count": 0,
   "metadata": {
    "colab": {},
    "colab_type": "code",
    "id": "AfjXgOaQb6nv"
   },
   "outputs": [],
   "source": [
    "def train(nodes_each_layer, batch_size, train_features, train_labels, num_epochs, activation_fn, learning_rate, learning_type='fixed',initial_weight=0.1):\n",
    "    no_of_features = train_features.shape[1] # no. of attributes\n",
    "    no_of_classes = train_labels.shape[1] # no. of classes\n",
    "    print('classes :',no_of_classes)\n",
    "    layers = initialize_layers(nodes_each_layer,no_of_features,no_of_classes, batch_size,initial_weight)\n",
    "    dataset_size = len(train_features)\n",
    "    n0 = 0.5\n",
    "    for j in tqdm(range(1,num_epochs+1)):\n",
    "        if learning_type =='adaptive':\n",
    "          learning_rate = n0/np.sqrt(j)\n",
    "        i = 0\n",
    "        while i+batch_size <= dataset_size :\n",
    "            train_features_slice = train_features[i:i+batch_size]\n",
    "            train_labels_slice = train_labels[i:i+batch_size]\n",
    "            error = train_per_batch(layers, train_features_slice,train_labels_slice , activation_fn, learning_rate, 2.0)\n",
    "            i +=batch_size\n",
    "    print('Error :',error) \n",
    "    return layers"
   ]
  },
  {
   "cell_type": "code",
   "execution_count": 0,
   "metadata": {
    "colab": {},
    "colab_type": "code",
    "id": "tLznbqzRP7xF"
   },
   "outputs": [],
   "source": [
    "def plot_test_accuracy(title_text,X_label,Y_label,X_Axis,test_accuracies,training_accuracies):\n",
    "  if len(test_accuracies) != 1:\n",
    "    plt.plot(X_Axis, test_accuracies, color='g',label=\"Test Accuracy\")\n",
    "    plt.scatter(X_Axis,test_accuracies)\n",
    "  plt.plot(X_Axis, training_accuracies, color='orange',label=\"Training Accuracy\")\n",
    "  plt.scatter(X_Axis,training_accuracies)\n",
    "  plt.xlabel(X_label)\n",
    "  plt.ylabel(Y_label)\n",
    "  plt.title(title_text)\n",
    "  # plt.ylim(0.78,0.82)\n",
    "  plt.xticks(X_Axis)\n",
    "  plt.legend(loc='lower right')\n",
    "  plt.show()"
   ]
  },
  {
   "cell_type": "code",
   "execution_count": 0,
   "metadata": {
    "colab": {},
    "colab_type": "code",
    "id": "-gD6RwTRQH1R"
   },
   "outputs": [],
   "source": [
    "#----Que_2(B)\n",
    "def que_b_c(learning_type='fixed'):\n",
    "\n",
    "  hidden_layers = [1,5,10,50,100]\n",
    "  training_accuracies = []\n",
    "  test_accuracies = []\n",
    "  time_taken = []\n",
    "  for neurons in hidden_layers:\n",
    "      t0 = time.time()\n",
    "      layers = train([neurons], 100, X, Y, 1500, 'sigmoid',0.1,learning_type)\n",
    "      time_taken.append(round(time.time()-t0))\n",
    "      training_accuracies.append(get_accuracy(layers, X, Y, 'sigmoid'))\n",
    "      test_accuracies.append(get_accuracy(layers, test_features, test_labels, 'sigmoid'))\n",
    "  \n",
    "  print('Training Accuracies :', training_accuracies)\n",
    "  print('Testing Accuracies :', test_accuracies)\n",
    "  print('Time Taken :', time_taken)\n",
    "  #plot accuracies\n",
    "  plot_test_accuracy('No of Neurons in Hidden Layer V/S Accuracies','No. of Neurons in Hidden layer -->','Accuracies',hidden_layers,test_accuracies,training_accuracies)\n",
    "  #plot time taken to train the model\n",
    "  plot_test_accuracy('No of Neurons in Hidden Layer V/S Time Taken by Model','No. of Neurons in Hidden layer -->','Time in Seconds -->',hidden_layers,[0],time_taken)"
   ]
  },
  {
   "cell_type": "code",
   "execution_count": 0,
   "metadata": {
    "colab": {},
    "colab_type": "code",
    "id": "3I1inE8PQVPk"
   },
   "outputs": [],
   "source": [
    "def mlp_classifier(features,labels,epochs,learning_rate,activation_fn,momentum_fn=0.9):\n",
    "  mlp_clf = MLPClassifier((100,100),activation=activation_fn,solver='sgd',batch_size=100,learning_rate='invscaling',learning_rate_init=learning_rate,shuffle=True,random_state=1, max_iter = epochs,momentum=momentum_fn)\n",
    "  mlp_clf.fit(features,labels)\n",
    "  return mlp_clf"
   ]
  },
  {
   "cell_type": "code",
   "execution_count": 0,
   "metadata": {
    "colab": {},
    "colab_type": "code",
    "id": "_yMSNOnyQaJy"
   },
   "outputs": [],
   "source": [
    "def mlp_cal_accuracy(classifier,features, labels):\n",
    "  prob_matrix = classifier.predict_proba(features)\n",
    "  prob_array =  np.argmax(prob_matrix,axis=1)\n",
    "  val_match = (prob_array == labels)\n",
    "  print('Matched :',np.count_nonzero(val_match),'Total examples :',len(val_match))\n",
    "  print(np.count_nonzero(val_match)/len(val_match))\n"
   ]
  },
  {
   "cell_type": "code",
   "execution_count": 0,
   "metadata": {
    "colab": {
     "base_uri": "https://localhost:8080/",
     "height": 1000
    },
    "colab_type": "code",
    "id": "Z0LVKSdVQ9WT",
    "outputId": "a1529ca3-0a73-470d-83df-d78637fe1928"
   },
   "outputs": [
    {
     "name": "stderr",
     "output_type": "stream",
     "text": [
      "  0%|          | 1/1500 [00:00<02:51,  8.73it/s]"
     ]
    },
    {
     "name": "stdout",
     "output_type": "stream",
     "text": [
      "classes : 26\n",
      "layer no : 0 No of neurons : 1 No of weights : 785 (1, 785)\n",
      "layer no : 1 No of neurons : 26 No of weights : 2 (26, 2)\n"
     ]
    },
    {
     "name": "stderr",
     "output_type": "stream",
     "text": [
      "100%|██████████| 1500/1500 [02:47<00:00,  8.97it/s]\n"
     ]
    },
    {
     "name": "stdout",
     "output_type": "stream",
     "text": [
      "Error : 48.07694901710796\n"
     ]
    },
    {
     "name": "stderr",
     "output_type": "stream",
     "text": [
      "\r",
      "  0%|          | 0/1500 [00:00<?, ?it/s]"
     ]
    },
    {
     "name": "stdout",
     "output_type": "stream",
     "text": [
      "No of total values Match : 13000\n",
      "number of correct match : 500\n",
      "Accuracy:  3.8461538461538463\n",
      "No of total values Match : 6500\n",
      "number of correct match : 250\n",
      "Accuracy:  3.8461538461538463\n",
      "classes : 26\n",
      "layer no : 0 No of neurons : 5 No of weights : 785 (5, 785)\n",
      "layer no : 1 No of neurons : 26 No of weights : 6 (26, 6)\n"
     ]
    },
    {
     "name": "stderr",
     "output_type": "stream",
     "text": [
      "100%|██████████| 1500/1500 [02:16<00:00, 11.01it/s]\n"
     ]
    },
    {
     "name": "stdout",
     "output_type": "stream",
     "text": [
      "Error : 43.15838971672259\n",
      "No of total values Match : 13000\n",
      "number of correct match : 2662\n",
      "Accuracy:  20.476923076923075\n"
     ]
    },
    {
     "name": "stderr",
     "output_type": "stream",
     "text": [
      "  0%|          | 1/1500 [00:00<02:41,  9.29it/s]"
     ]
    },
    {
     "name": "stdout",
     "output_type": "stream",
     "text": [
      "No of total values Match : 6500\n",
      "number of correct match : 1342\n",
      "Accuracy:  20.646153846153847\n",
      "classes : 26\n",
      "layer no : 0 No of neurons : 10 No of weights : 785 (10, 785)\n",
      "layer no : 1 No of neurons : 26 No of weights : 11 (26, 11)\n"
     ]
    },
    {
     "name": "stderr",
     "output_type": "stream",
     "text": [
      "100%|██████████| 1500/1500 [02:27<00:00, 10.17it/s]\n"
     ]
    },
    {
     "name": "stdout",
     "output_type": "stream",
     "text": [
      "Error : 19.327154304128005\n",
      "No of total values Match : 13000\n",
      "number of correct match : 9944\n",
      "Accuracy:  76.49230769230769\n"
     ]
    },
    {
     "name": "stderr",
     "output_type": "stream",
     "text": [
      "  0%|          | 1/1500 [00:00<04:50,  5.16it/s]"
     ]
    },
    {
     "name": "stdout",
     "output_type": "stream",
     "text": [
      "No of total values Match : 6500\n",
      "number of correct match : 4606\n",
      "Accuracy:  70.86153846153846\n",
      "classes : 26\n",
      "layer no : 0 No of neurons : 50 No of weights : 785 (50, 785)\n",
      "layer no : 1 No of neurons : 26 No of weights : 51 (26, 51)\n"
     ]
    },
    {
     "name": "stderr",
     "output_type": "stream",
     "text": [
      "100%|██████████| 1500/1500 [04:44<00:00,  5.26it/s]\n"
     ]
    },
    {
     "name": "stdout",
     "output_type": "stream",
     "text": [
      "Error : 4.454942036441279\n",
      "No of total values Match : 13000\n"
     ]
    },
    {
     "name": "stderr",
     "output_type": "stream",
     "text": [
      "\r",
      "  0%|          | 0/1500 [00:00<?, ?it/s]"
     ]
    },
    {
     "name": "stdout",
     "output_type": "stream",
     "text": [
      "number of correct match : 12362\n",
      "Accuracy:  95.0923076923077\n",
      "No of total values Match : 6500\n",
      "number of correct match : 5776\n",
      "Accuracy:  88.86153846153846\n",
      "classes : 26\n",
      "layer no : 0 No of neurons : 100 No of weights : 785 (100, 785)\n",
      "layer no : 1 No of neurons : 26 No of weights : 101 (26, 101)\n"
     ]
    },
    {
     "name": "stderr",
     "output_type": "stream",
     "text": [
      "100%|██████████| 1500/1500 [06:13<00:00,  4.02it/s]\n"
     ]
    },
    {
     "name": "stdout",
     "output_type": "stream",
     "text": [
      "Error : 3.142177571672342\n",
      "No of total values Match : 13000\n",
      "number of correct match : 12545\n",
      "Accuracy:  96.5\n",
      "No of total values Match : 6500\n",
      "number of correct match : 5916\n",
      "Accuracy:  91.01538461538462\n",
      "Training Accuracies : [3.85, 20.48, 76.49, 95.09, 96.5]\n",
      "Testing Accuracies : [3.85, 20.65, 70.86, 88.86, 91.02]\n",
      "Time Taken : [167, 136, 147, 285, 373]\n"
     ]
    },
    {
     "data": {
      "image/png": "[encoded data removed]",
      "text/plain": [
       "<Figure size 432x288 with 1 Axes>"
      ]
     },
     "metadata": {
      "needs_background": "light",
      "tags": []
     },
     "output_type": "display_data"
    },
    {
     "data": {
      "image/png": "[encoded data removed]",
      "text/plain": [
       "<Figure size 432x288 with 1 Axes>"
      ]
     },
     "metadata": {
      "needs_background": "light",
      "tags": []
     },
     "output_type": "display_data"
    }
   ],
   "source": [
    "#-----------Question_(b)--------------------\n",
    "que_b_c('fixed')"
   ]
  },
  {
   "cell_type": "code",
   "execution_count": 0,
   "metadata": {
    "colab": {
     "base_uri": "https://localhost:8080/",
     "height": 1000
    },
    "colab_type": "code",
    "id": "a8uMg8yhWQ9x",
    "outputId": "3fd1557c-85ff-4eda-a4be-1db0204cc897"
   },
   "outputs": [
    {
     "name": "stderr",
     "output_type": "stream",
     "text": [
      "  0%|          | 1/1500 [00:00<03:10,  7.88it/s]"
     ]
    },
    {
     "name": "stdout",
     "output_type": "stream",
     "text": [
      "classes : 26\n",
      "layer no : 0 No of neurons : 1 No of weights : 785 (1, 785)\n",
      "layer no : 1 No of neurons : 26 No of weights : 2 (26, 2)\n"
     ]
    },
    {
     "name": "stderr",
     "output_type": "stream",
     "text": [
      "100%|██████████| 1500/1500 [02:46<00:00,  9.04it/s]\n"
     ]
    },
    {
     "name": "stdout",
     "output_type": "stream",
     "text": [
      "Error : 48.076845640020814\n",
      "No of total values Match : 13000\n",
      "number of correct match : 473\n",
      "Accuracy:  3.6384615384615384\n"
     ]
    },
    {
     "name": "stderr",
     "output_type": "stream",
     "text": [
      "  0%|          | 1/1500 [00:00<02:30,  9.96it/s]"
     ]
    },
    {
     "name": "stdout",
     "output_type": "stream",
     "text": [
      "No of total values Match : 6500\n",
      "number of correct match : 246\n",
      "Accuracy:  3.7846153846153845\n",
      "classes : 26\n",
      "layer no : 0 No of neurons : 5 No of weights : 785 (5, 785)\n",
      "layer no : 1 No of neurons : 26 No of weights : 6 (26, 6)\n"
     ]
    },
    {
     "name": "stderr",
     "output_type": "stream",
     "text": [
      "100%|██████████| 1500/1500 [02:17<00:00, 10.94it/s]\n"
     ]
    },
    {
     "name": "stdout",
     "output_type": "stream",
     "text": [
      "Error : 48.075773796398835\n",
      "No of total values Match : 13000\n",
      "number of correct match : 491\n",
      "Accuracy:  3.776923076923077\n"
     ]
    },
    {
     "name": "stderr",
     "output_type": "stream",
     "text": [
      "  0%|          | 1/1500 [00:00<02:39,  9.42it/s]"
     ]
    },
    {
     "name": "stdout",
     "output_type": "stream",
     "text": [
      "No of total values Match : 6500\n",
      "number of correct match : 245\n",
      "Accuracy:  3.769230769230769\n",
      "classes : 26\n",
      "layer no : 0 No of neurons : 10 No of weights : 785 (10, 785)\n",
      "layer no : 1 No of neurons : 26 No of weights : 11 (26, 11)\n"
     ]
    },
    {
     "name": "stderr",
     "output_type": "stream",
     "text": [
      "100%|██████████| 1500/1500 [02:30<00:00,  9.98it/s]\n"
     ]
    },
    {
     "name": "stdout",
     "output_type": "stream",
     "text": [
      "Error : 46.042369941378745\n",
      "No of total values Match : 13000\n",
      "number of correct match : 1243\n",
      "Accuracy:  9.561538461538461\n"
     ]
    },
    {
     "name": "stderr",
     "output_type": "stream",
     "text": [
      "\r",
      "  0%|          | 0/1500 [00:00<?, ?it/s]"
     ]
    },
    {
     "name": "stdout",
     "output_type": "stream",
     "text": [
      "No of total values Match : 6500\n",
      "number of correct match : 648\n",
      "Accuracy:  9.96923076923077\n",
      "classes : 26\n",
      "layer no : 0 No of neurons : 50 No of weights : 785 (50, 785)\n",
      "layer no : 1 No of neurons : 26 No of weights : 51 (26, 51)\n"
     ]
    },
    {
     "name": "stderr",
     "output_type": "stream",
     "text": [
      "100%|██████████| 1500/1500 [04:51<00:00,  5.15it/s]\n"
     ]
    },
    {
     "name": "stdout",
     "output_type": "stream",
     "text": [
      "Error : 10.2362558787087\n"
     ]
    },
    {
     "name": "stderr",
     "output_type": "stream",
     "text": [
      "\r",
      "  0%|          | 0/1500 [00:00<?, ?it/s]"
     ]
    },
    {
     "name": "stdout",
     "output_type": "stream",
     "text": [
      "No of total values Match : 13000\n",
      "number of correct match : 11557\n",
      "Accuracy:  88.9\n",
      "No of total values Match : 6500\n",
      "number of correct match : 5569\n",
      "Accuracy:  85.67692307692307\n",
      "classes : 26\n",
      "layer no : 0 No of neurons : 100 No of weights : 785 (100, 785)\n",
      "layer no : 1 No of neurons : 26 No of weights : 101 (26, 101)\n"
     ]
    },
    {
     "name": "stderr",
     "output_type": "stream",
     "text": [
      "100%|██████████| 1500/1500 [06:16<00:00,  3.98it/s]\n"
     ]
    },
    {
     "name": "stdout",
     "output_type": "stream",
     "text": [
      "Error : 8.618107306728461\n",
      "No of total values Match : 13000\n",
      "number of correct match : 11707\n",
      "Accuracy:  90.05384615384615\n",
      "No of total values Match : 6500\n",
      "number of correct match : 5630\n",
      "Accuracy:  86.61538461538461\n",
      "Training Accuracies : [3.64, 3.78, 9.56, 88.9, 90.05]\n",
      "Testing Accuracies : [3.78, 3.77, 9.97, 85.68, 86.62]\n",
      "Time Taken : [166, 137, 150, 291, 377]\n"
     ]
    },
    {
     "data": {
      "image/png": "[encoded data removed]",
      "text/plain": [
       "<Figure size 432x288 with 1 Axes>"
      ]
     },
     "metadata": {
      "needs_background": "light",
      "tags": []
     },
     "output_type": "display_data"
    },
    {
     "data": {
      "image/png": "[encoded data removed]",
      "text/plain": [
       "<Figure size 432x288 with 1 Axes>"
      ]
     },
     "metadata": {
      "needs_background": "light",
      "tags": []
     },
     "output_type": "display_data"
    }
   ],
   "source": [
    "#-----------Question_(c)--------------------\n",
    "que_b_c('adaptive')"
   ]
  },
  {
   "cell_type": "code",
   "execution_count": 0,
   "metadata": {
    "colab": {
     "base_uri": "https://localhost:8080/",
     "height": 510
    },
    "colab_type": "code",
    "id": "zSW3zIvO45VE",
    "outputId": "578f3ac8-0cdd-430a-9840-c1aff3675676"
   },
   "outputs": [
    {
     "name": "stderr",
     "output_type": "stream",
     "text": [
      "\r",
      "  0%|          | 0/1500 [00:00<?, ?it/s]"
     ]
    },
    {
     "name": "stdout",
     "output_type": "stream",
     "text": [
      "Activation function : sigmoid\n",
      "classes : 26\n",
      "layer no : 0 No of neurons : 100 No of weights : 785 (100, 785)\n",
      "layer no : 1 No of neurons : 100 No of weights : 101 (100, 101)\n",
      "layer no : 2 No of neurons : 26 No of weights : 101 (26, 101)\n"
     ]
    },
    {
     "name": "stderr",
     "output_type": "stream",
     "text": [
      "100%|██████████| 1500/1500 [07:49<00:00,  3.19it/s]\n"
     ]
    },
    {
     "name": "stdout",
     "output_type": "stream",
     "text": [
      "Error : 18.179461946737852\n",
      "time to train the model with sigmoid activation function 7.827200822035471\n"
     ]
    },
    {
     "name": "stderr",
     "output_type": "stream",
     "text": [
      "\r",
      "  0%|          | 0/1000 [00:00<?, ?it/s]"
     ]
    },
    {
     "name": "stdout",
     "output_type": "stream",
     "text": [
      "No of total values Match : 13000\n",
      "number of correct match : 10454\n",
      "Accuracy:  80.41538461538461\n",
      "No of total values Match : 6500\n",
      "number of correct match : 5120\n",
      "Accuracy:  78.76923076923077\n",
      "Activation function : Relu\n",
      "classes : 26\n",
      "layer no : 0 No of neurons : 100 No of weights : 785 (100, 785)\n",
      "layer no : 1 No of neurons : 100 No of weights : 101 (100, 101)\n",
      "layer no : 2 No of neurons : 26 No of weights : 101 (26, 101)\n"
     ]
    },
    {
     "name": "stderr",
     "output_type": "stream",
     "text": [
      "100%|██████████| 1000/1000 [05:40<00:00,  2.94it/s]\n"
     ]
    },
    {
     "name": "stdout",
     "output_type": "stream",
     "text": [
      "Error : 6.479542616578245\n",
      "time to train the model with relu activation function 5.6754480759302774\n",
      "No of total values Match : 13000\n",
      "number of correct match : 11918\n",
      "Accuracy:  91.67692307692307\n",
      "No of total values Match : 6500\n",
      "number of correct match : 5671\n",
      "Accuracy:  87.24615384615385\n"
     ]
    },
    {
     "data": {
      "text/plain": [
       "87.25"
      ]
     },
     "execution_count": 25,
     "metadata": {
      "tags": []
     },
     "output_type": "execute_result"
    }
   ],
   "source": [
    "#Que2(d)------- \n",
    "print('Activation function : sigmoid')\n",
    "t0 = time.time()\n",
    "layers = train([100,100], 100, X, Y, 1500, 'sigmoid',0.5,'adaptive')\n",
    "print('time to train the model with sigmoid activation function',(time.time()-t0)/60)\n",
    "get_accuracy(layers, X, Y, 'sigmoid')\n",
    "get_accuracy(layers, test_features, test_labels, 'sigmoid')\n",
    "print('Activation function : Relu')\n",
    "t0 = time.time()\n",
    "layers = train([100,100], 100, X, Y, 1000, 'relu',0.5,'adaptive',0.01)\n",
    "print('time to train the model with relu activation function',(time.time()-t0)/60)\n",
    "get_accuracy(layers, X, Y, 'relu')\n",
    "get_accuracy(layers, test_features, test_labels, 'relu')"
   ]
  },
  {
   "cell_type": "code",
   "execution_count": 11,
   "metadata": {
    "colab": {
     "base_uri": "https://localhost:8080/",
     "height": 275
    },
    "colab_type": "code",
    "id": "Hk1rbGxburv_",
    "outputId": "912e6c90-8201-4805-b5b9-6d01f73d4c92"
   },
   "outputs": [
    {
     "name": "stdout",
     "output_type": "stream",
     "text": [
      "--part_e, sigmoid--\n",
      "time to train the model : 519.7103900909424\n",
      "Matched : 1133 Total examples : 13000\n",
      "0.08715384615384615\n",
      "Matched : 574 Total examples : 6500\n",
      "0.08830769230769231\n",
      "--part_e, relu--\n"
     ]
    },
    {
     "name": "stderr",
     "output_type": "stream",
     "text": [
      "/usr/local/lib/python3.6/dist-packages/sklearn/neural_network/_multilayer_perceptron.py:571: ConvergenceWarning: Stochastic Optimizer: Maximum iterations (1500) reached and the optimization hasn't converged yet.\n",
      "  % self.max_iter, ConvergenceWarning)\n"
     ]
    },
    {
     "name": "stdout",
     "output_type": "stream",
     "text": [
      "time to train the model : 1049.4873569011688\n",
      "Matched : 10969 Total examples : 13000\n",
      "0.8437692307692307\n",
      "Matched : 5309 Total examples : 6500\n",
      "0.8167692307692308\n"
     ]
    }
   ],
   "source": [
    "#--------Que2(E)\n",
    "print('--part_e, sigmoid--')\n",
    "t0 = time.time()\n",
    "mlp_clf = mlp_classifier(X,Y,1500,0.5,'logistic')\n",
    "print('time to train the model :',time.time()-t0)\n",
    "mlp_cal_accuracy(mlp_clf,X, y_train)\n",
    "mlp_cal_accuracy(mlp_clf,test_features, test_y)\n",
    "\n",
    "print('--part_e, relu--')\n",
    "t0 = time.time()\n",
    "mlp_clf = mlp_classifier(X,Y,1500,0.5,'relu',0)\n",
    "print('time to train the model :',time.time()-t0)\n",
    "mlp_cal_accuracy(mlp_clf,X, y_train)\n",
    "mlp_cal_accuracy(mlp_clf,test_features, test_y)"
   ]
  },
  {
   "cell_type": "code",
   "execution_count": 0,
   "metadata": {
    "colab": {},
    "colab_type": "code",
    "id": "_VlaUPKpys2f"
   },
   "outputs": [],
   "source": []
  }
 ],
 "metadata": {
  "accelerator": "TPU",
  "colab": {
   "collapsed_sections": [],
   "machine_shape": "hm",
   "name": "A3_Neural_Network_Partd.ipynb",
   "provenance": []
  },
  "kernelspec": {
   "display_name": "Python 3",
   "language": "python",
   "name": "python3"
  },
  "language_info": {
   "codemirror_mode": {
    "name": "ipython",
    "version": 2
   },
   "file_extension": ".py",
   "mimetype": "text/x-python",
   "name": "python",
   "nbconvert_exporter": "python",
   "pygments_lexer": "ipython2",
   "version": "2.7.17"
  }
 },
 "nbformat": 4,
 "nbformat_minor": 1
}
